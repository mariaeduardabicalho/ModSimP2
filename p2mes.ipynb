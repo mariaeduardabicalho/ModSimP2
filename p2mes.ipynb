{
 "cells": [
  {
   "cell_type": "markdown",
   "metadata": {},
   "source": [
    "# Trabalho Modelagem e Simulação P2"
   ]
  },
  {
   "cell_type": "markdown",
   "metadata": {},
   "source": [
    "SEM ROUPA"
   ]
  },
  {
   "cell_type": "markdown",
   "metadata": {},
   "source": [
    "---Parametros:"
   ]
  },
  {
   "cell_type": "code",
   "execution_count": 69,
   "metadata": {
    "collapsed": true
   },
   "outputs": [],
   "source": [
    "import math\n",
    "import numpy as np\n",
    "import matplotlib.pyplot as plt\n",
    "from scipy.integrate import odeint \n",
    "\n",
    "\n",
    "def conveccao(T1,T2,h):\n",
    "    c=h*A*(T1-T2)\n",
    "    return c\n",
    "\n",
    "def conducao(T1,T2,d):\n",
    "    co=k*A*(T1-T2)/d\n",
    "    return co\n",
    "\n",
    "def radsol():\n",
    "    r=e*I*A\n",
    "    return r\n",
    "\n",
    "def radmulher(Tp):\n",
    "    rm=em*o*A*(Tp**4)\n",
    "    return rm\n",
    "\n",
    "def transp(T1,Tp):\n",
    "    return (cl+((T1+Tp)/2)*(Sg-Sl)+R/Pma*T1*((math.log(1/ur))))\n",
    "\n",
    "#parametros\n",
    "e=0.95 #coeficiente de emissividade\n",
    "I=1000 #W/m**2 #indice de insolacao\n",
    "A=1.64 #m**2 #area \n",
    "har= 5 #baixo W/m**2 *K #Coef. de transferência convectiva\n",
    "hma= 25 #alto #Coef. de transferência convectiva\n",
    "kra=1/0.047 #mKS/J #Condutância térmica\n",
    "km=1/0.47  #Condutância térmica\n",
    "Tp=[22]\n",
    "Tr=[22]\n",
    "Ta=50\n",
    "#Tai=[37]\n",
    "cl=2.256 #Calor latente de vaporização da agua\n",
    "Pma=18 #Peso molecular da agua\n",
    "Sl=69.9#entropia agua liquida\n",
    "Sg=188.8#entropia agua gasosa\n",
    "R=8.31#contante gasosa\n",
    "ur=0.15 # umidade relativa\n",
    "m=61 #massa mulher\n",
    "c=3470\n",
    "o=5.67e-8\n",
    "em=0.9\n",
    "dr=0.001\n"
   ]
  },
  {
   "cell_type": "markdown",
   "metadata": {},
   "source": [
    "---Função"
   ]
  },
  {
   "cell_type": "code",
   "execution_count": 97,
   "metadata": {},
   "outputs": [
    {
     "ename": "AttributeError",
     "evalue": "'numpy.ndarray' object has no attribute 'append'",
     "output_type": "error",
     "traceback": [
      "\u001b[0;31m---------------------------------------------------------------------------\u001b[0m",
      "\u001b[0;31mAttributeError\u001b[0m                            Traceback (most recent call last)",
      "\u001b[0;32m<ipython-input-97-5b81aa81dd4e>\u001b[0m in \u001b[0;36m<module>\u001b[0;34m()\u001b[0m\n\u001b[1;32m     10\u001b[0m \u001b[0;34m\u001b[0m\u001b[0m\n\u001b[1;32m     11\u001b[0m \u001b[0;34m\u001b[0m\u001b[0m\n\u001b[0;32m---> 12\u001b[0;31m \u001b[0mtemperatura_pele_mulher\u001b[0m\u001b[0;34m=\u001b[0m\u001b[0modeint\u001b[0m\u001b[0;34m(\u001b[0m\u001b[0mmulhersroupa\u001b[0m\u001b[0;34m,\u001b[0m\u001b[0mTp\u001b[0m\u001b[0;34m[\u001b[0m\u001b[0;36m0\u001b[0m\u001b[0;34m]\u001b[0m\u001b[0;34m,\u001b[0m\u001b[0mtempo\u001b[0m\u001b[0;34m)\u001b[0m\u001b[0;34m\u001b[0m\u001b[0m\n\u001b[0m\u001b[1;32m     13\u001b[0m \u001b[0mplt\u001b[0m\u001b[0;34m.\u001b[0m\u001b[0mplot\u001b[0m\u001b[0;34m(\u001b[0m\u001b[0mtempo\u001b[0m\u001b[0;34m,\u001b[0m\u001b[0mtemperatura_pele_mulher\u001b[0m\u001b[0;34m)\u001b[0m\u001b[0;34m\u001b[0m\u001b[0m\n\u001b[1;32m     14\u001b[0m \u001b[0mplt\u001b[0m\u001b[0;34m.\u001b[0m\u001b[0mylabel\u001b[0m\u001b[0;34m(\u001b[0m\u001b[0;34m'Temperatura pele mulher'\u001b[0m\u001b[0;34m,\u001b[0m\u001b[0;34m'r'\u001b[0m\u001b[0;34m)\u001b[0m\u001b[0;34m\u001b[0m\u001b[0m\n",
      "\u001b[0;32m/Users/dudabicalho/anaconda/lib/python3.6/site-packages/scipy/integrate/odepack.py\u001b[0m in \u001b[0;36modeint\u001b[0;34m(func, y0, t, args, Dfun, col_deriv, full_output, ml, mu, rtol, atol, tcrit, h0, hmax, hmin, ixpr, mxstep, mxhnil, mxordn, mxords, printmessg)\u001b[0m\n\u001b[1;32m    213\u001b[0m     output = _odepack.odeint(func, y0, t, args, Dfun, col_deriv, ml, mu,\n\u001b[1;32m    214\u001b[0m                              \u001b[0mfull_output\u001b[0m\u001b[0;34m,\u001b[0m \u001b[0mrtol\u001b[0m\u001b[0;34m,\u001b[0m \u001b[0matol\u001b[0m\u001b[0;34m,\u001b[0m \u001b[0mtcrit\u001b[0m\u001b[0;34m,\u001b[0m \u001b[0mh0\u001b[0m\u001b[0;34m,\u001b[0m \u001b[0mhmax\u001b[0m\u001b[0;34m,\u001b[0m \u001b[0mhmin\u001b[0m\u001b[0;34m,\u001b[0m\u001b[0;34m\u001b[0m\u001b[0m\n\u001b[0;32m--> 215\u001b[0;31m                              ixpr, mxstep, mxhnil, mxordn, mxords)\n\u001b[0m\u001b[1;32m    216\u001b[0m     \u001b[0;32mif\u001b[0m \u001b[0moutput\u001b[0m\u001b[0;34m[\u001b[0m\u001b[0;34m-\u001b[0m\u001b[0;36m1\u001b[0m\u001b[0;34m]\u001b[0m \u001b[0;34m<\u001b[0m \u001b[0;36m0\u001b[0m\u001b[0;34m:\u001b[0m\u001b[0;34m\u001b[0m\u001b[0m\n\u001b[1;32m    217\u001b[0m         \u001b[0mwarning_msg\u001b[0m \u001b[0;34m=\u001b[0m \u001b[0m_msgs\u001b[0m\u001b[0;34m[\u001b[0m\u001b[0moutput\u001b[0m\u001b[0;34m[\u001b[0m\u001b[0;34m-\u001b[0m\u001b[0;36m1\u001b[0m\u001b[0;34m]\u001b[0m\u001b[0;34m]\u001b[0m \u001b[0;34m+\u001b[0m \u001b[0;34m\" Run with full_output = 1 to get quantitative information.\"\u001b[0m\u001b[0;34m\u001b[0m\u001b[0m\n",
      "\u001b[0;32m<ipython-input-97-5b81aa81dd4e>\u001b[0m in \u001b[0;36mmulhersroupa\u001b[0;34m(Tp, tempo)\u001b[0m\n\u001b[1;32m      5\u001b[0m     \u001b[0mdTmdt\u001b[0m\u001b[0;34m=\u001b[0m\u001b[0;34m(\u001b[0m\u001b[0mradsol\u001b[0m\u001b[0;34m(\u001b[0m\u001b[0;34m)\u001b[0m\u001b[0;34m+\u001b[0m\u001b[0mconveccao\u001b[0m\u001b[0;34m(\u001b[0m\u001b[0mTa\u001b[0m\u001b[0;34m,\u001b[0m\u001b[0mTp\u001b[0m\u001b[0;34m,\u001b[0m\u001b[0mhma\u001b[0m\u001b[0;34m)\u001b[0m\u001b[0;34m-\u001b[0m\u001b[0;34m(\u001b[0m\u001b[0mtransp\u001b[0m\u001b[0;34m(\u001b[0m\u001b[0mTa\u001b[0m\u001b[0;34m,\u001b[0m\u001b[0mTp\u001b[0m\u001b[0;34m)\u001b[0m\u001b[0;34m)\u001b[0m\u001b[0;34m-\u001b[0m\u001b[0mradmulher\u001b[0m\u001b[0;34m(\u001b[0m\u001b[0mTp\u001b[0m\u001b[0;34m)\u001b[0m\u001b[0;34m)\u001b[0m\u001b[0;34m/\u001b[0m\u001b[0;34m(\u001b[0m\u001b[0mm\u001b[0m\u001b[0;34m*\u001b[0m\u001b[0mc\u001b[0m\u001b[0;34m)\u001b[0m\u001b[0;34m\u001b[0m\u001b[0m\n\u001b[1;32m      6\u001b[0m     \u001b[0;32mfor\u001b[0m \u001b[0mx\u001b[0m \u001b[0;32min\u001b[0m \u001b[0mrange\u001b[0m\u001b[0;34m(\u001b[0m\u001b[0;34m(\u001b[0m\u001b[0mlen\u001b[0m\u001b[0;34m(\u001b[0m\u001b[0mstr\u001b[0m\u001b[0;34m(\u001b[0m\u001b[0mtempo\u001b[0m\u001b[0;34m)\u001b[0m\u001b[0;34m)\u001b[0m\u001b[0;34m)\u001b[0m\u001b[0;34m-\u001b[0m\u001b[0;36m1\u001b[0m\u001b[0;34m)\u001b[0m\u001b[0;34m:\u001b[0m\u001b[0;34m\u001b[0m\u001b[0m\n\u001b[0;32m----> 7\u001b[0;31m         \u001b[0mTp\u001b[0m\u001b[0;34m.\u001b[0m\u001b[0mappend\u001b[0m\u001b[0;34m(\u001b[0m\u001b[0mTp\u001b[0m\u001b[0;34m[\u001b[0m\u001b[0mx\u001b[0m\u001b[0;34m]\u001b[0m\u001b[0;34m+\u001b[0m\u001b[0mdTmdt\u001b[0m\u001b[0;34m)\u001b[0m\u001b[0;34m\u001b[0m\u001b[0m\n\u001b[0m\u001b[1;32m      8\u001b[0m     \u001b[0;32mreturn\u001b[0m \u001b[0mdTmdt\u001b[0m\u001b[0;34m\u001b[0m\u001b[0m\n\u001b[1;32m      9\u001b[0m \u001b[0;34m\u001b[0m\u001b[0m\n",
      "\u001b[0;31mAttributeError\u001b[0m: 'numpy.ndarray' object has no attribute 'append'"
     ]
    }
   ],
   "source": [
    "\n",
    "tempo=np.arange(0,12,0.01)\n",
    "\n",
    "def mulhersroupa(y,tempo):\n",
    "    dTmdt=(radsol()+conveccao(Ta,Tp,hma)-(transp(Ta,Tp))-radmulher(Tp))/(m*c)\n",
    "    for x in range((len(str(tempo)))-1):\n",
    "        Tp.append(Tp[x]+dTmdt)\n",
    "    return dTmdt\n",
    "\n",
    "\n",
    "\n",
    "temperatura_pele_mulher=odeint(mulhersroupa,Tp[0],tempo)\n",
    "plt.plot(tempo,temperatura_pele_mulher)\n",
    "plt.ylabel('Temperatura pele mulher','r')\n",
    "plt.xlabel('tempo')\n",
    "plt.grid(True)\n",
    "plt.show()"
   ]
  },
  {
   "cell_type": "markdown",
   "metadata": {},
   "source": [
    "---Gráfico"
   ]
  },
  {
   "cell_type": "code",
   "execution_count": null,
   "metadata": {
    "collapsed": true
   },
   "outputs": [],
   "source": []
  },
  {
   "cell_type": "code",
   "execution_count": null,
   "metadata": {
    "collapsed": true
   },
   "outputs": [],
   "source": []
  },
  {
   "cell_type": "markdown",
   "metadata": {},
   "source": [
    "COM ROUPAS GRUDADAS"
   ]
  },
  {
   "cell_type": "markdown",
   "metadata": {},
   "source": [
    "---Função"
   ]
  },
  {
   "cell_type": "code",
   "execution_count": 9,
   "metadata": {
    "collapsed": true
   },
   "outputs": [],
   "source": [
    "def tecidogrudado():\n",
    "    dUtdt= radsol()+ conveccao(Ta,Tr,har)+transp(Tp,Ta)+ radmulher(Tp)-conducao(Tr,Tp,dr)-kr*A*(Ta-Tr)/dr\n",
    "    return dUtdt\n",
    "def mulhergrudada():\n",
    "    dUmdt= km*A*(Tr-Tm)/dr -transpiração\n",
    "    return dUmdt"
   ]
  },
  {
   "cell_type": "markdown",
   "metadata": {},
   "source": [
    "---Gráfico"
   ]
  },
  {
   "cell_type": "code",
   "execution_count": null,
   "metadata": {
    "collapsed": true
   },
   "outputs": [],
   "source": [
    "for\n"
   ]
  },
  {
   "cell_type": "code",
   "execution_count": null,
   "metadata": {
    "collapsed": true
   },
   "outputs": [],
   "source": []
  },
  {
   "cell_type": "markdown",
   "metadata": {},
   "source": [
    "COM ROUPAS SOLTAS"
   ]
  },
  {
   "cell_type": "markdown",
   "metadata": {},
   "source": [
    "---Função"
   ]
  },
  {
   "cell_type": "code",
   "execution_count": 5,
   "metadata": {
    "collapsed": true
   },
   "outputs": [],
   "source": [
    "def tecidosolto():\n",
    "    dUtdt= e*I*A+ har*A*(Tar-Troupa)+kr*A*(Tar-Tai)/dr-har*A*(Tar-Troupa)-kr*A*(Tar-Tai)/dr\n",
    "    return dUtdt\n",
    "\n",
    "def arinterno():\n",
    "    dUdedt=kr*A*(Tar-Tai)/dr+transpiração+hma*A*(Tai-Tmulher)-kr*A*(Tai-Troupa)/dr -hma*A*(Tai-Tmulher)\n",
    "    return dUdedt\n",
    "def mulhersolta():\n",
    "    dUmdt=h*A*(Tmulher-Tai)-h*A*(Tmulher-Tai)\n",
    "    return dUmdt"
   ]
  },
  {
   "cell_type": "markdown",
   "metadata": {},
   "source": [
    "---Gráficos"
   ]
  },
  {
   "cell_type": "code",
   "execution_count": null,
   "metadata": {
    "collapsed": true
   },
   "outputs": [],
   "source": []
  },
  {
   "cell_type": "code",
   "execution_count": null,
   "metadata": {
    "collapsed": true
   },
   "outputs": [],
   "source": []
  }
 ],
 "metadata": {
  "kernelspec": {
   "display_name": "Python 3",
   "language": "python",
   "name": "python3"
  },
  "language_info": {
   "codemirror_mode": {
    "name": "ipython",
    "version": 3
   },
   "file_extension": ".py",
   "mimetype": "text/x-python",
   "name": "python",
   "nbconvert_exporter": "python",
   "pygments_lexer": "ipython3",
   "version": "3.6.0"
  }
 },
 "nbformat": 4,
 "nbformat_minor": 2
}
