{
 "cells": [
  {
   "cell_type": "markdown",
   "metadata": {},
   "source": [
    "# Trabalho Modelagem e Simulação P2"
   ]
  },
  {
   "cell_type": "markdown",
   "metadata": {},
   "source": [
    "SEM ROUPA"
   ]
  },
  {
   "cell_type": "markdown",
   "metadata": {},
   "source": [
    "---Parametros:"
   ]
  },
  {
   "cell_type": "code",
   "execution_count": 8,
   "metadata": {
    "collapsed": true
   },
   "outputs": [],
   "source": [
    "e=0.95\n",
    "I=1000 #W/m**2\n",
    "A=1.64 #m**2\n",
    "har= 5 #baixo W/m**2 *K\n",
    "hma= 25 #alto\n",
    "kr=1/0.047 #mKS/J\n",
    "km=1/0.47 \n",
    "Tm=[37.5]\n",
    "Tr=[]\n",
    "Ta=[50]\n",
    "Tai=[37.5]"
   ]
  },
  {
   "cell_type": "markdown",
   "metadata": {},
   "source": [
    "---Função"
   ]
  },
  {
   "cell_type": "code",
   "execution_count": null,
   "metadata": {
    "collapsed": true
   },
   "outputs": [],
   "source": []
  },
  {
   "cell_type": "code",
   "execution_count": 7,
   "metadata": {
    "collapsed": true
   },
   "outputs": [],
   "source": [
    "def mulhersroupa():\n",
    "    dUmdt= e*I*A+hma*A*(Tar-Tmulher)-transpiração\n",
    "    return dUmdt"
   ]
  },
  {
   "cell_type": "markdown",
   "metadata": {},
   "source": [
    "---Gráfico"
   ]
  },
  {
   "cell_type": "code",
   "execution_count": null,
   "metadata": {
    "collapsed": true
   },
   "outputs": [],
   "source": []
  },
  {
   "cell_type": "code",
   "execution_count": null,
   "metadata": {
    "collapsed": true
   },
   "outputs": [],
   "source": []
  },
  {
   "cell_type": "markdown",
   "metadata": {},
   "source": [
    "COM ROUPAS GRUDADAS"
   ]
  },
  {
   "cell_type": "markdown",
   "metadata": {},
   "source": [
    "---Função"
   ]
  },
  {
   "cell_type": "code",
   "execution_count": 9,
   "metadata": {
    "collapsed": true
   },
   "outputs": [],
   "source": [
    "def tecidogrudado():\n",
    "    dUtdt= e*I*A+ har*A*(Ta-Tr) +transpiração -km*A*(Tr-Tm)/dr -kr*A*(Ta-Tr)/dr\n",
    "    return dUtdt\n",
    "def mulhergrudada():\n",
    "    dUmdt= km*A*(Tr-Tm)/dr -transpiração\n",
    "    return dUmdt"
   ]
  },
  {
   "cell_type": "markdown",
   "metadata": {},
   "source": [
    "---Gráfico"
   ]
  },
  {
   "cell_type": "code",
   "execution_count": null,
   "metadata": {
    "collapsed": true
   },
   "outputs": [],
   "source": [
    "for\n"
   ]
  },
  {
   "cell_type": "code",
   "execution_count": null,
   "metadata": {
    "collapsed": true
   },
   "outputs": [],
   "source": []
  },
  {
   "cell_type": "markdown",
   "metadata": {},
   "source": [
    "COM ROUPAS SOLTAS"
   ]
  },
  {
   "cell_type": "markdown",
   "metadata": {},
   "source": [
    "---Função"
   ]
  },
  {
   "cell_type": "code",
   "execution_count": 5,
   "metadata": {
    "collapsed": true
   },
   "outputs": [],
   "source": [
    "def tecidosolto():\n",
    "    dUtdt= e*I*A+ har*A*(Tar-Troupa)+kr*A*(Tar-Tai)/dr-har*A*(Tar-Troupa)-kr*A*(Tar-Tai)/dr\n",
    "    return dUtdt\n",
    "\n",
    "def arinterno():\n",
    "    dUdedt=kr*A*(Tar-Tai)/dr+transpiração+hma*A*(Tai-Tmulher)-kr*A*(Tai-Troupa)/dr -hma*A*(Tai-Tmulher)\n",
    "    return dUdedt\n",
    "def mulhersolta():\n",
    "    dUmdt=h*A*(Tmulher-Tai)-h*A*(Tmulher-Tai)\n",
    "    return dUmdt"
   ]
  },
  {
   "cell_type": "markdown",
   "metadata": {},
   "source": [
    "---Gráficos"
   ]
  },
  {
   "cell_type": "code",
   "execution_count": null,
   "metadata": {
    "collapsed": true
   },
   "outputs": [],
   "source": []
  },
  {
   "cell_type": "code",
   "execution_count": null,
   "metadata": {
    "collapsed": true
   },
   "outputs": [],
   "source": []
  }
 ],
 "metadata": {
  "kernelspec": {
   "display_name": "Python 3",
   "language": "python",
   "name": "python3"
  },
  "language_info": {
   "codemirror_mode": {
    "name": "ipython",
    "version": 3
   },
   "file_extension": ".py",
   "mimetype": "text/x-python",
   "name": "python",
   "nbconvert_exporter": "python",
   "pygments_lexer": "ipython3",
   "version": "3.6.0"
  }
 },
 "nbformat": 4,
 "nbformat_minor": 2
}
